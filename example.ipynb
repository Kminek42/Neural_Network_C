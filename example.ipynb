{
 "cells": [
  {
   "cell_type": "markdown",
   "metadata": {},
   "source": [
    "# Example\n",
    "\n",
    "This notebook shows how to train neural network in python in a way that is compatible with the C library.\n",
    "It does not show how to solve any specific problem, but rather how to transfer model to C."
   ]
  },
  {
   "cell_type": "code",
   "execution_count": 1,
   "metadata": {},
   "outputs": [],
   "source": [
    "import numpy as np"
   ]
  },
  {
   "cell_type": "code",
   "execution_count": 2,
   "metadata": {},
   "outputs": [],
   "source": [
    "# this neural network works the same way as the one in C\n",
    "\n",
    "class NeuralNetwork:\n",
    "    def __init__(self, shape: np.array, genotype: np.array):\n",
    "        self.activation = np.tanh\n",
    "        self.w = []\n",
    "        self.genotype = genotype\n",
    "\n",
    "\n",
    "        parameters_n = 0\n",
    "        for i in range(len(shape) - 1):\n",
    "            parameters_n += shape[i] * shape[i+1]\n",
    "            parameters_n += shape[i+1]\n",
    "\n",
    "        assert len(self.genotype) == parameters_n, f\"genotype: {len(self.genotype)}, parameters: {parameters_n}\"\n",
    "            \n",
    "        for i in range(len(shape) - 1):\n",
    "            self.w.append(genotype[:shape[i] * shape[i+1]].reshape(shape[i + 1], shape[i]))\n",
    "            genotype = genotype[shape[i] * shape[i+1]:]\n",
    "\n",
    "            self.w.append(genotype[:shape[i+1]])\n",
    "            self.w[-1] = self.w[-1].reshape(shape[i+1], 1)\n",
    "            genotype = genotype[shape[i+1]:]\n",
    "\n",
    "        \n",
    "    def forward(self, inputs):\n",
    "        inputs = inputs.reshape(1, -1).T\n",
    "        for i in range(0, len(self.w), 2):\n",
    "            inputs = self.w[i] @ inputs\n",
    "            inputs += self.w[i + 1]\n",
    "            inputs = self.activation(inputs)\n",
    "        \n",
    "        return inputs"
   ]
  },
  {
   "cell_type": "code",
   "execution_count": 3,
   "metadata": {},
   "outputs": [],
   "source": [
    "# Let's say we want to solve some problem by implementing genetic algorithm.\n",
    "# It is done by finding the best \"genotype\" of the function.\n",
    "# In this case, our function is neural network.\n",
    "\n",
    "# Create a random genotype\n",
    "genotype = np.random.randn(170)\n",
    "# In case you are wondering how do I know that the genotype has to have 170 elements:\n",
    "# neural network class checks if genotype can fill all weights and biases and tells you if there is wrong number of elements.\n",
    "\n",
    "# Create a nn with that genotype\n",
    "layers = [10, 8, 6, 4]\n",
    "nn = NeuralNetwork(np.array(layers), genotype)\n",
    "\n",
    "\n",
    "# If neural network with that genotype is doing well, you can save the genotype to a genotype.csv and layers to layers.csv.\n",
    "with open('genotype.csv', 'w') as f:\n",
    "    np.savetxt(f, genotype)\n",
    "\n",
    "with open('layers.csv', 'w') as f:\n",
    "    for layer in layers[:-1]:\n",
    "        f.write(str(layer) + ',')\n",
    "    f.write(str(layers[-1]))\n",
    "\n",
    "# Of course, this genotype will not be good, because it was generated randomly.\n",
    "# You will have to implement some sort of learning algorithm."
   ]
  },
  {
   "cell_type": "code",
   "execution_count": 4,
   "metadata": {},
   "outputs": [],
   "source": [
    "# If you want to generate neural network using generated genotype, run converter.py.\n",
    "# It will generate neural_network.h and neural_network.c files.\n",
    "\n",
    "# Next you can run C code by typing \"./run.sh\" in terminal (on macOS and Linux)."
   ]
  },
  {
   "cell_type": "code",
   "execution_count": 5,
   "metadata": {},
   "outputs": [
    {
     "name": "stdout",
     "output_type": "stream",
     "text": [
      "float inputs[10] = { 0.07656088, -0.27443325, -0.12742866, -1.0739909 , -2.3203679 ,\n",
      "        0.47109858,  0.96793253, -1.20658401, -0.45183336, -0.85693123};\n",
      "[[ 0.58577476]\n",
      " [ 0.99360388]\n",
      " [-0.86579222]\n",
      " [-0.99730407]]\n"
     ]
    }
   ],
   "source": [
    "# now you can generate random inputs to check if C code prints the same output as Python code\n",
    "inputs = np.random.randn(layers[0])\n",
    "print(f\"float inputs[{layers[0]}] = {{{repr(inputs)[7:-2]}}};\")  # paste this as inputs array in C code\n",
    "print(nn.forward(inputs))"
   ]
  }
 ],
 "metadata": {
  "kernelspec": {
   "display_name": "Python 3",
   "language": "python",
   "name": "python3"
  },
  "language_info": {
   "codemirror_mode": {
    "name": "ipython",
    "version": 3
   },
   "file_extension": ".py",
   "mimetype": "text/x-python",
   "name": "python",
   "nbconvert_exporter": "python",
   "pygments_lexer": "ipython3",
   "version": "3.11.4"
  }
 },
 "nbformat": 4,
 "nbformat_minor": 2
}
