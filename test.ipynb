{
 "cells": [
  {
   "cell_type": "code",
   "execution_count": 2,
   "metadata": {},
   "outputs": [],
   "source": [
    "import numpy as np\n",
    "from time import time"
   ]
  },
  {
   "cell_type": "code",
   "execution_count": 3,
   "metadata": {},
   "outputs": [],
   "source": [
    "import numpy as np\n",
    "\n",
    "class NeuralNetwork:\n",
    "    def __init__(self, shape: np.array, genotype: np.array):\n",
    "        '''\n",
    "        genotype: all data needed to describe controller behaviour, stored as 1D array\n",
    "        '''\n",
    "        self.activation = np.tanh\n",
    "        self.w = []\n",
    "        self.genotype = genotype\n",
    "\n",
    "\n",
    "        parameters_n = 0\n",
    "        for i in range(len(shape) - 1):\n",
    "            parameters_n += shape[i] * shape[i+1]\n",
    "            parameters_n += shape[i+1]\n",
    "\n",
    "        assert len(self.genotype) == parameters_n, f\"genotype: {len(self.genotype)}, parameters: {parameters_n}\"\n",
    "            \n",
    "        for i in range(len(shape) - 1):\n",
    "            self.w.append(genotype[:shape[i] * shape[i+1]].reshape(shape[i + 1], shape[i]))\n",
    "            genotype = genotype[shape[i] * shape[i+1]:]\n",
    "\n",
    "            self.w.append(genotype[:shape[i+1]])\n",
    "            self.w[-1] = self.w[-1].reshape(shape[i+1], 1)\n",
    "            genotype = genotype[shape[i+1]:]\n",
    "\n",
    "        \n",
    "    def get_motors(self, inputs):\n",
    "        inputs = inputs.reshape(1, -1).T\n",
    "        for i in range(0, len(self.w), 2):\n",
    "            inputs = self.w[i] @ inputs\n",
    "            inputs += self.w[i + 1]\n",
    "            inputs = self.activation(inputs)\n",
    "        \n",
    "        return inputs"
   ]
  },
  {
   "cell_type": "code",
   "execution_count": 7,
   "metadata": {},
   "outputs": [
    {
     "name": "stdout",
     "output_type": "stream",
     "text": [
      "Time: 8.702278137207031e-05\n",
      "Output: [[-0.99984985]\n",
      " [-0.73164008]\n",
      " [-0.88481623]\n",
      " [-0.75463852]]\n"
     ]
    }
   ],
   "source": [
    "A = np.random.randn(170)\n",
    "# print(repr(A))\n",
    "nn = NeuralNetwork([10, 8, 6, 4], A)\n",
    "\n",
    "B = np.random.randn(10)\n",
    "# print(\"input:\", repr(B))\n",
    "\n",
    "t0 = time()\n",
    "a = nn.get_motors(B)\n",
    "t0 = time() - t0\n",
    "print(\"Time:\", t0)\n",
    "print(\"Output:\", a)"
   ]
  },
  {
   "cell_type": "code",
   "execution_count": null,
   "metadata": {},
   "outputs": [],
   "source": []
  }
 ],
 "metadata": {
  "kernelspec": {
   "display_name": "Python 3",
   "language": "python",
   "name": "python3"
  },
  "language_info": {
   "codemirror_mode": {
    "name": "ipython",
    "version": 3
   },
   "file_extension": ".py",
   "mimetype": "text/x-python",
   "name": "python",
   "nbconvert_exporter": "python",
   "pygments_lexer": "ipython3",
   "version": "3.11.4"
  }
 },
 "nbformat": 4,
 "nbformat_minor": 2
}
