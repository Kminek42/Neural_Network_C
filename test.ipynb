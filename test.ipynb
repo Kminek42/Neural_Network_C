{
 "cells": [
  {
   "cell_type": "markdown",
   "metadata": {},
   "source": [
    "# Training example\n",
    "\n",
    "This notebook shows how to train neural network in python in a way that is compatible with the C library.\n",
    "It does not shows how to solve any specific problem, but rather how to transfer data to C."
   ]
  },
  {
   "cell_type": "code",
   "execution_count": 1,
   "metadata": {},
   "outputs": [],
   "source": [
    "import numpy as np"
   ]
  },
  {
   "cell_type": "code",
   "execution_count": 2,
   "metadata": {},
   "outputs": [],
   "source": [
    "# this neural network works the same way as the one in C\n",
    "\n",
    "class NeuralNetwork:\n",
    "    def __init__(self, shape: np.array, genotype: np.array):\n",
    "        self.activation = np.tanh\n",
    "        self.w = []\n",
    "        self.genotype = genotype\n",
    "\n",
    "\n",
    "        parameters_n = 0\n",
    "        for i in range(len(shape) - 1):\n",
    "            parameters_n += shape[i] * shape[i+1]\n",
    "            parameters_n += shape[i+1]\n",
    "\n",
    "        assert len(self.genotype) == parameters_n, f\"genotype: {len(self.genotype)}, parameters: {parameters_n}\"\n",
    "            \n",
    "        for i in range(len(shape) - 1):\n",
    "            self.w.append(genotype[:shape[i] * shape[i+1]].reshape(shape[i + 1], shape[i]))\n",
    "            genotype = genotype[shape[i] * shape[i+1]:]\n",
    "\n",
    "            self.w.append(genotype[:shape[i+1]])\n",
    "            self.w[-1] = self.w[-1].reshape(shape[i+1], 1)\n",
    "            genotype = genotype[shape[i+1]:]\n",
    "\n",
    "        \n",
    "    def forward(self, inputs):\n",
    "        inputs = inputs.reshape(1, -1).T\n",
    "        for i in range(0, len(self.w), 2):\n",
    "            inputs = self.w[i] @ inputs\n",
    "            inputs += self.w[i + 1]\n",
    "            inputs = self.activation(inputs)\n",
    "        \n",
    "        return inputs"
   ]
  },
  {
   "cell_type": "code",
   "execution_count": 6,
   "metadata": {},
   "outputs": [
    {
     "name": "stdout",
     "output_type": "stream",
     "text": [
      "array([-3.31838594e-01, -2.23762525e-02,  2.73940038e-01, -1.31142089e+00,\n",
      "       -1.36656624e-01,  1.77825490e+00,  7.38141880e-01, -2.30594706e-01,\n",
      "       -1.61741720e-01, -2.06439010e-01,  1.35745543e+00,  2.27763591e-01,\n",
      "       -3.07974636e-01, -3.67069730e-01, -2.78982922e-01,  1.48692628e+00,\n",
      "       -1.35086311e+00,  3.40995063e-01, -1.79470510e-01, -9.39800359e-01,\n",
      "       -1.22211747e+00, -6.19336711e-01, -2.13400729e-01, -2.14624437e-01,\n",
      "       -1.06482397e+00,  1.05590913e-03, -9.58332082e-01,  1.88470809e-02,\n",
      "        6.20301902e-01,  2.00752341e-01,  1.62676132e+00,  1.69156594e+00,\n",
      "       -4.29060510e-01, -1.26836783e+00, -1.48037855e+00,  5.63941690e-01,\n",
      "       -7.55071026e-01,  4.43811386e-01, -3.81510892e-01,  5.37289734e-01,\n",
      "       -1.12965330e+00, -3.23319564e-01, -1.93101741e-02,  3.32779290e-01,\n",
      "       -3.79760161e-01,  3.10542120e-01, -8.53541341e-01,  1.43096820e+00,\n",
      "       -1.37408806e+00,  3.92361719e-01, -1.61662605e+00, -5.99159714e-02,\n",
      "        1.48375248e-01,  6.71049369e-01, -2.88988663e-01,  5.70789761e-01,\n",
      "        1.65095986e+00, -5.51675820e-01,  5.00755413e-01,  1.67286909e+00,\n",
      "       -6.37784516e-01,  1.68716137e+00,  9.14895017e-02, -7.19806414e-01,\n",
      "       -6.44238360e-01, -2.59138127e+00, -5.69018781e-02, -1.74344142e+00,\n",
      "       -2.23284178e+00, -9.91248468e-02,  8.34399628e-01, -1.31629668e+00,\n",
      "       -1.21517762e+00, -6.26412135e-01,  3.57457852e-02,  2.02048398e-01,\n",
      "       -1.85045099e-01, -1.22019195e+00,  7.83392685e-01, -5.90842004e-01,\n",
      "       -6.91185909e-01, -1.95034291e+00,  1.29810573e+00, -6.72757477e-01,\n",
      "       -1.07293261e+00, -2.98093179e+00, -5.43559069e-01, -1.22698662e-01,\n",
      "       -1.72090458e+00, -4.10886189e-01, -6.71548376e-01, -3.81028220e-01,\n",
      "        7.11007218e-01,  4.57623443e-01, -7.52311598e-01, -4.49088400e-01,\n",
      "       -3.79534789e-01, -3.33242507e-01, -2.47788896e-01, -1.30193117e+00,\n",
      "        2.21952355e-01, -6.53498014e-01, -8.39421443e-01, -2.78380414e-01,\n",
      "       -6.15843625e-01,  8.44181829e-01, -4.91696725e-01, -5.23009287e-01,\n",
      "        1.28630164e+00,  2.56425780e-01,  5.28562851e-01, -2.93133011e-01,\n",
      "       -3.43269989e-01,  7.75578876e-01,  2.27518782e+00, -7.24129151e-01,\n",
      "        1.78314599e+00,  7.77049367e-01,  8.67209792e-01,  1.14660648e+00,\n",
      "       -1.27362292e+00,  2.44984665e-01, -2.07473255e-01, -1.08556866e+00,\n",
      "        1.63163266e+00,  1.08314788e+00, -1.91225451e-01, -1.57673878e-01,\n",
      "       -1.20994906e+00,  6.93160437e-01, -1.22114886e-01, -6.26608445e-01,\n",
      "        2.51712685e-01,  1.82060824e+00,  5.39964680e-01, -2.61395366e-01,\n",
      "        1.64955637e+00, -4.36583428e-01,  4.86855604e-01,  1.89116576e-01,\n",
      "       -5.23676682e-01, -1.66574437e-01, -2.87230352e+00, -3.40519966e-01,\n",
      "        3.18118501e-01,  7.59998656e-01, -1.00592427e+00,  4.77824128e-01,\n",
      "       -1.56606898e+00,  1.99873664e-01, -3.46919842e-01,  8.64062128e-01,\n",
      "        2.47164245e-01,  1.37295773e-01,  4.30185553e-01, -1.61125849e+00,\n",
      "        1.23378359e+00, -5.33327737e-01,  9.71666477e-01,  2.20681452e+00,\n",
      "       -5.16639061e-01, -6.45134458e-01, -6.76284767e-01, -2.46917950e+00,\n",
      "        8.80741082e-02,  4.29895919e-01,  9.96418629e-01,  1.18243514e+00,\n",
      "       -2.03383840e+00,  3.32461683e-01])\n"
     ]
    }
   ],
   "source": [
    "# Let's say we want to solve some problem by implementing genetic algorithm.\n",
    "# It is done by finding the best \"genotype\" of the function.\n",
    "# In this case, our function is neural network.\n",
    "\n",
    "# Create a random genotype\n",
    "genotype = np.random.randn(170)\n",
    "\n",
    "# Create a nn with that genotype\n",
    "nn = NeuralNetwork(np.array([10, 8, 6, 4]), genotype)\n",
    "\n",
    "# In case you are wondering how do I know that the genotype has to have 26 elements:\n",
    "# neural network class checks if genotype can fill all weights and biases and tells you if there is wrong number of elements.\n",
    "\n",
    "# If neural network with that genotype is doing well, you can print the genotype and paste it into the C code.\n",
    "print(repr(genotype))\n",
    "\n",
    "# Of course, this genotype will not be good, because it was generated randomly.\n",
    "# You will have to implement some sort of learning algorithm."
   ]
  },
  {
   "cell_type": "code",
   "execution_count": 8,
   "metadata": {},
   "outputs": [
    {
     "name": "stdout",
     "output_type": "stream",
     "text": [
      "array([-1.07345792,  0.27974646,  2.58024343,  0.25565184,  0.15403624,\n",
      "       -1.38389756,  0.32025532, -0.07782008,  0.23977592, -1.03075154])\n",
      "[[-0.93278648]\n",
      " [-0.49551506]\n",
      " [-0.99986985]\n",
      " [-0.19258657]]\n"
     ]
    }
   ],
   "source": [
    "inputs = np.random.randn(10)\n",
    "print(repr(inputs))\n",
    "print(nn.forward(inputs))"
   ]
  }
 ],
 "metadata": {
  "kernelspec": {
   "display_name": "Python 3",
   "language": "python",
   "name": "python3"
  },
  "language_info": {
   "codemirror_mode": {
    "name": "ipython",
    "version": 3
   },
   "file_extension": ".py",
   "mimetype": "text/x-python",
   "name": "python",
   "nbconvert_exporter": "python",
   "pygments_lexer": "ipython3",
   "version": "3.11.4"
  }
 },
 "nbformat": 4,
 "nbformat_minor": 2
}
