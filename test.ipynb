{
 "cells": [
  {
   "cell_type": "markdown",
   "metadata": {},
   "source": [
    "# Training example\n",
    "\n",
    "This notebook shows how to train neural network in python in a way that is compatible with the C library.\n",
    "It does not shows how to solve any specific problem, but rather how to transfer data to C."
   ]
  },
  {
   "cell_type": "code",
   "execution_count": 2,
   "metadata": {},
   "outputs": [],
   "source": [
    "import numpy as np"
   ]
  },
  {
   "cell_type": "code",
   "execution_count": 3,
   "metadata": {},
   "outputs": [],
   "source": [
    "# this neural network works the same way as the one in C\n",
    "\n",
    "class NeuralNetwork:\n",
    "    def __init__(self, shape: np.array, genotype: np.array):\n",
    "        self.activation = np.tanh\n",
    "        self.w = []\n",
    "        self.genotype = genotype\n",
    "\n",
    "\n",
    "        parameters_n = 0\n",
    "        for i in range(len(shape) - 1):\n",
    "            parameters_n += shape[i] * shape[i+1]\n",
    "            parameters_n += shape[i+1]\n",
    "\n",
    "        assert len(self.genotype) == parameters_n, f\"genotype: {len(self.genotype)}, parameters: {parameters_n}\"\n",
    "            \n",
    "        for i in range(len(shape) - 1):\n",
    "            self.w.append(genotype[:shape[i] * shape[i+1]].reshape(shape[i + 1], shape[i]))\n",
    "            genotype = genotype[shape[i] * shape[i+1]:]\n",
    "\n",
    "            self.w.append(genotype[:shape[i+1]])\n",
    "            self.w[-1] = self.w[-1].reshape(shape[i+1], 1)\n",
    "            genotype = genotype[shape[i+1]:]\n",
    "\n",
    "        \n",
    "    def forward(self, inputs):\n",
    "        inputs = inputs.reshape(1, -1).T\n",
    "        for i in range(0, len(self.w), 2):\n",
    "            inputs = self.w[i] @ inputs\n",
    "            inputs += self.w[i + 1]\n",
    "            inputs = self.activation(inputs)\n",
    "        \n",
    "        return inputs"
   ]
  },
  {
   "cell_type": "code",
   "execution_count": 5,
   "metadata": {},
   "outputs": [
    {
     "name": "stdout",
     "output_type": "stream",
     "text": [
      "array([-1.04477828,  2.04923811, -0.94902239, -0.74626823, -2.06513475,\n",
      "        1.52740629,  0.02777221,  0.55846113, -0.92948361,  1.46697045,\n",
      "       -2.05273206, -1.05848234,  1.20355772, -0.87319826,  0.39072332,\n",
      "       -1.39135945,  2.74434449, -0.6317306 , -1.00679101,  0.03570516,\n",
      "        1.21559754, -0.19023518,  0.06386834])\n"
     ]
    }
   ],
   "source": [
    "# Let's say we want to solve some problem by implementing genetic algorithm.\n",
    "# It is done by finding the best \"genotype\" of the function.\n",
    "# In this case, our function is neural network.\n",
    "\n",
    "# Create a random genotype\n",
    "genotype = np.random.randn(23)\n",
    "\n",
    "# Create a nn with that genotype\n",
    "nn = NeuralNetwork(np.array([4, 3, 2]), genotype)\n",
    "\n",
    "# In case you are wondering how do I know that the genotype has to have 26 elements:\n",
    "# neural network class checks if genotype can fill all weights and biases and tells you if there is wrong number of elements.\n",
    "\n",
    "# If neural network with that genotype is doing well, you can print the genotype and paste it into the C code.\n",
    "print(repr(genotype))\n",
    "\n",
    "# Of course, this genotype will not be good, because it was generated randomly.\n",
    "# You will have to implement some sort of learning algorithm."
   ]
  }
 ],
 "metadata": {
  "kernelspec": {
   "display_name": "Python 3",
   "language": "python",
   "name": "python3"
  },
  "language_info": {
   "codemirror_mode": {
    "name": "ipython",
    "version": 3
   },
   "file_extension": ".py",
   "mimetype": "text/x-python",
   "name": "python",
   "nbconvert_exporter": "python",
   "pygments_lexer": "ipython3",
   "version": "3.11.4"
  }
 },
 "nbformat": 4,
 "nbformat_minor": 2
}
