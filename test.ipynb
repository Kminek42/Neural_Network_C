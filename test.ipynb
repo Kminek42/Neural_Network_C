{
 "cells": [
  {
   "cell_type": "markdown",
   "metadata": {},
   "source": [
    "# Training example\n",
    "\n",
    "This notebook shows how to train neural network in python in a way that is compatible with the C library.\n",
    "It does not shows how to solve any specific problem, but rather how to transfer data to C."
   ]
  },
  {
   "cell_type": "code",
   "execution_count": 14,
   "metadata": {},
   "outputs": [],
   "source": [
    "import numpy as np"
   ]
  },
  {
   "cell_type": "code",
   "execution_count": 18,
   "metadata": {},
   "outputs": [],
   "source": [
    "# this neural network works the same way as the one in C\n",
    "\n",
    "class NeuralNetwork:\n",
    "    def __init__(self, shape: np.array, genotype: np.array):\n",
    "        self.activation = np.tanh\n",
    "        self.w = []\n",
    "        self.genotype = genotype\n",
    "\n",
    "\n",
    "        parameters_n = 0\n",
    "        for i in range(len(shape) - 1):\n",
    "            parameters_n += shape[i] * shape[i+1]\n",
    "            parameters_n += shape[i+1]\n",
    "\n",
    "        assert len(self.genotype) == parameters_n, f\"genotype: {len(self.genotype)}, parameters: {parameters_n}\"\n",
    "            \n",
    "        for i in range(len(shape) - 1):\n",
    "            self.w.append(genotype[:shape[i] * shape[i+1]].reshape(shape[i + 1], shape[i]))\n",
    "            genotype = genotype[shape[i] * shape[i+1]:]\n",
    "\n",
    "            self.w.append(genotype[:shape[i+1]])\n",
    "            self.w[-1] = self.w[-1].reshape(shape[i+1], 1)\n",
    "            genotype = genotype[shape[i+1]:]\n",
    "\n",
    "        \n",
    "    def forward(self, inputs):\n",
    "        inputs = inputs.reshape(1, -1).T\n",
    "        for i in range(0, len(self.w), 2):\n",
    "            inputs = self.w[i] @ inputs\n",
    "            inputs += self.w[i + 1]\n",
    "            inputs = self.activation(inputs)\n",
    "        \n",
    "        return inputs"
   ]
  },
  {
   "cell_type": "code",
   "execution_count": 20,
   "metadata": {},
   "outputs": [
    {
     "name": "stdout",
     "output_type": "stream",
     "text": [
      "array([-2.48124910e+00,  1.31544128e+00, -5.05760264e-01,  2.39379504e+00,\n",
      "        3.16341236e-02, -1.24785545e+00,  4.48755239e-01, -1.29709493e+00,\n",
      "       -4.69826179e-01,  3.76892429e-01,  7.22700900e-01, -8.83840977e-01,\n",
      "        7.52509880e-01,  6.22580655e-01,  1.87455640e+00,  1.57409240e+00,\n",
      "        1.86056949e-01, -4.44658623e-01,  2.13087276e-03, -4.28654651e-01,\n",
      "       -4.72945476e-01, -1.64698064e+00,  1.45948047e+00, -1.00046298e+00,\n",
      "       -5.79613204e-01, -4.53596982e-01])\n"
     ]
    }
   ],
   "source": [
    "# Let's say we want to solve some problem by implementing genetic algorithm.\n",
    "# It is done by finding the best \"genotype\" of the function.\n",
    "# In this case, our function is neural network.\n",
    "\n",
    "# Create a random genotype\n",
    "genotype = np.random.randn(26)\n",
    "\n",
    "# Create a nn with that genotype\n",
    "nn = NeuralNetwork(np.array([5, 3, 2]), genotype)\n",
    "\n",
    "# In case you are wondering how do I know that the genotype has to have 26 elements:\n",
    "# neural network class checks if genotype can fill all weights and biases and tells you if there is wrong number of elements.\n",
    "\n",
    "# If neural network with that genotype is doing well, you can print the genotype and paste it into the C code.\n",
    "print(repr(genotype))\n",
    "\n",
    "# Of course, this genotype will not be good, because it was generated randomly.\n",
    "# You will have to implement some sort of learning algorithm."
   ]
  }
 ],
 "metadata": {
  "kernelspec": {
   "display_name": "Python 3",
   "language": "python",
   "name": "python3"
  },
  "language_info": {
   "codemirror_mode": {
    "name": "ipython",
    "version": 3
   },
   "file_extension": ".py",
   "mimetype": "text/x-python",
   "name": "python",
   "nbconvert_exporter": "python",
   "pygments_lexer": "ipython3",
   "version": "3.11.4"
  }
 },
 "nbformat": 4,
 "nbformat_minor": 2
}
